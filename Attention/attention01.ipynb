{
 "cells": [
  {
   "cell_type": "markdown",
   "metadata": {},
   "source": [
    "## Attention\n",
    "\n",
    "### 计算两个向量相似度\n"
   ]
  },
  {
   "cell_type": "code",
   "execution_count": 18,
   "metadata": {},
   "outputs": [
    {
     "name": "stdout",
     "output_type": "stream",
     "text": [
      "权重: tensor([0.7604, 0.2396])\n"
     ]
    }
   ],
   "source": [
    "import math\n",
    "import torch\n",
    "\n",
    "# Query, Key 初始化\n",
    "Q = torch.tensor([2.0, 3.0, 1.0])\n",
    "K1 = torch.tensor([1.0, 2.0, 1.0])  # 'apple'\n",
    "K2 = torch.tensor([1.0, 1.0, 2.0])  # 'orange'\n",
    "\n",
    "# 点积计算\n",
    "dot_product1 = torch.dot(Q, K1)\n",
    "dot_product2 = torch.dot(Q, K2)\n",
    "\n",
    "# 缩放因子\n",
    "d_k = Q.size(0)\n",
    "scale_factor = math.sqrt(d_k)\n",
    "\n",
    "# 缩放点积\n",
    "scaled_dot_product1 = dot_product1 / scale_factor\n",
    "scaled_dot_product2 = dot_product2 / scale_factor\n",
    "\n",
    "# Softmax 计算\n",
    "weights = torch.nn.functional.softmax(torch.tensor(\n",
    "    [scaled_dot_product1, scaled_dot_product2]), dim=0)\n",
    "\n",
    "print(\"权重:\", weights)"
   ]
  },
  {
   "cell_type": "markdown",
   "metadata": {},
   "source": [
    "#### 机器翻译 Attention-Seq2Seq\n",
    "\n",
    "传统的 Seq2Seq 模型在处理长句子时存在信息损失的问题，注意力机制通过动态权重分配来解决\n"
   ]
  },
  {
   "cell_type": "code",
   "execution_count": 19,
   "metadata": {},
   "outputs": [],
   "source": [
    "import torch\n",
    "import torch.nn as nn\n",
    "\n",
    "\n",
    "class AttentionSeq2Seq(nn.Module):\n",
    "    def __init__(self, input_dim, hidden_dim, output_dim):\n",
    "        super(AttentionSeq2Seq, self).__init__()\n",
    "        self.encoder = nn.LSTM(input_dim, hidden_dim)  # 将输入序列编码为隐藏状态序列\n",
    "        self.decoder = nn.LSTM(hidden_dim, hidden_dim)\n",
    "        self.attention = nn.Linear(hidden_dim * 2, 1)\n",
    "        # 输出注意力权重，（batch_size，seq_length）\n",
    "        self.output_layer = nn.Linear(hidden_dim, output_dim)\n",
    "        # （batch_size，seq_length，output_dim）\n",
    "\n",
    "    def forward(self, src, tgt):\n",
    "        # Encoder\n",
    "        encoder_output, (hidden, cell) = self.encoder(src)\n",
    "\n",
    "        # Decoder with Attention\n",
    "        output = []\n",
    "        for i in range(tgt.size(0)):\n",
    "            # 计算注意力权重\n",
    "            attention_weights = torch.tanh(self.attention(\n",
    "                torch.cat((hidden, encoder_output), dim=2)))\n",
    "            attention_weights = torch.softmax(attention_weights, dim=1)\n",
    "\n",
    "            # 注意力加权和\n",
    "            weighted = torch.sum(encoder_output * attention_weights, dim=1)\n",
    "\n",
    "            # Decoder\n",
    "            out, (hidden, cell) = self.decoder(\n",
    "                weighted.unsqueeze(0), (hidden, cell))\n",
    "            out = self.output_layer(out)\n",
    "            output.append(out)\n",
    "\n",
    "        return torch.stack(output)"
   ]
  }
 ],
 "metadata": {
  "kernelspec": {
   "display_name": "py310",
   "language": "python",
   "name": "python3"
  },
  "language_info": {
   "codemirror_mode": {
    "name": "ipython",
    "version": 3
   },
   "file_extension": ".py",
   "mimetype": "text/x-python",
   "name": "python",
   "nbconvert_exporter": "python",
   "pygments_lexer": "ipython3",
   "version": "3.10.12"
  }
 },
 "nbformat": 4,
 "nbformat_minor": 2
}
