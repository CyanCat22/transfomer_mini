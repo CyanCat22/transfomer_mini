{
 "cells": [
  {
   "cell_type": "markdown",
   "metadata": {},
   "source": [
    "## Transformer 学习，实现\n",
    "\n",
    "还有 pytorch 库中一些函数的用法 tips  \n",
    "[transformer](https://wmathor.com/index.php/archives/1438/)  \n",
    "[大佬视频讲解](https://www.bilibili.com/video/BV1mk4y1q7eK/?spm_id_from=333.999.0.0&vd_source=744197c073f4828379c29fa20f3ea477)\n",
    "![](./img/figure1.png)\n"
   ]
  },
  {
   "cell_type": "code",
   "execution_count": 49,
   "metadata": {},
   "outputs": [],
   "source": [
    "import torch.utils.data as Data\n",
    "import torch\n",
    "import torch.nn as nn\n",
    "import math\n",
    "import numpy as np\n",
    "\n",
    "sentences = [\n",
    "    # enc_input           dec_input         dec_output\n",
    "    [\"ich mochte ein bier P\", \"S i want a beer .\", \"i want a beer . E\"],\n",
    "    [\"ich mochte ein cola P\", \"S i want a coke .\", \"i want a coke . E\"],\n",
    "]\n",
    "\n",
    "# Padding Should be Zero\n",
    "src_vocab = {\"P\": 0, \"ich\": 1, \"mochte\": 2, \"ein\": 3, \"bier\": 4, \"cola\": 5}\n",
    "src_vocab_size = len(src_vocab)\n",
    "\n",
    "tgt_vocab = {\n",
    "    \"P\": 0,\n",
    "    \"i\": 1,\n",
    "    \"want\": 2,\n",
    "    \"a\": 3,\n",
    "    \"beer\": 4,\n",
    "    \"coke\": 5,\n",
    "    \"S\": 6,\n",
    "    \"E\": 7,\n",
    "    \".\": 8,\n",
    "}\n",
    "idx2word = {i: w for i, w in enumerate(tgt_vocab)}\n",
    "tgt_vocab_size = len(tgt_vocab)\n",
    "\n",
    "src_len = 5  # enc_input max sequence length\n",
    "tgt_len = 6  # dec_input(=dec_output) max sequence length\n",
    "\n",
    "\n",
    "def make_data(sentences):\n",
    "    enc_inputs, dec_inputs, dec_outputs = [], [], []\n",
    "    for i in range(len(sentences)):\n",
    "        # [[1, 2, 3, 4, 0], [1, 2, 3, 5, 0]]\n",
    "        enc_input = [[src_vocab[n] for n in sentences[i][0].split()]]\n",
    "        # [[6, 1, 2, 3, 4, 8], [6, 1, 2, 3, 5, 8]]\n",
    "        dec_input = [[tgt_vocab[n] for n in sentences[i][1].split()]]\n",
    "        # [[1, 2, 3, 4, 8, 7], [1, 2, 3, 5, 8, 7]]\n",
    "        dec_output = [[tgt_vocab[n] for n in sentences[i][2].split()]]\n",
    "\n",
    "        enc_inputs.extend(enc_input)\n",
    "        dec_inputs.extend(dec_input)\n",
    "        dec_outputs.extend(dec_output)\n",
    "\n",
    "    return (\n",
    "        torch.LongTensor(enc_inputs),\n",
    "        torch.LongTensor(dec_inputs),\n",
    "        torch.LongTensor(dec_outputs),\n",
    "    )\n",
    "\n",
    "\n",
    "enc_inputs, dec_inputs, dec_outputs = make_data(sentences)\n",
    "\n",
    "\n",
    "class MyDataSet(Data.Dataset):\n",
    "    def __init__(self, enc_inputs, dec_inputs, dec_outputs):\n",
    "        super(MyDataSet, self).__init__()\n",
    "        self.enc_inputs = enc_inputs\n",
    "        self.dec_inputs = dec_inputs\n",
    "        self.dec_outputs = dec_outputs\n",
    "\n",
    "    def __len__(self):\n",
    "        return self.enc_inputs.shape[0]\n",
    "\n",
    "    def __getitem__(self, idx):\n",
    "        return self.enc_inputs[idx], self.dec_inputs[idx], self.dec_outputs[idx]\n",
    "\n",
    "\n",
    "loader = Data.DataLoader(MyDataSet(enc_inputs, dec_inputs, dec_outputs), 2, True)"
   ]
  },
  {
   "cell_type": "markdown",
   "metadata": {},
   "source": [
    "### Step1 Positional Encoding\n",
    "\n",
    "因为没有用循环神经网络，需要序列\n",
    "在 transformer 里不训练，在 Bert 里会训练\n",
    "[文章理解](https://wmathor.com/index.php/archives/1453/)\n",
    "\n",
    "- 编码唯一\n",
    "- 值有界\n",
    "- 不同长度的句子之间，任何两个字之间的差值应该一致\n",
    "- ![](./img/position2.png)\n",
    "- ![](./img/position.png)\n"
   ]
  },
  {
   "cell_type": "code",
   "execution_count": 50,
   "metadata": {},
   "outputs": [],
   "source": [
    "# 参数\n",
    "d_model = 512\n",
    "d_ff = 2048\n",
    "d_k = d_v = 64\n",
    "n_layers = 6  # number of encoder and decoder layers\n",
    "n_heads = 8\n",
    "\n",
    "\n",
    "class PositionalEncoding(nn.Module):\n",
    "    def __init__(self, d_module, dropout=0.1, max_len=5000):\n",
    "        super(PositionalEncoding, self).__init__()\n",
    "        self.dropout = nn.Dropout(p=dropout)\n",
    "\n",
    "        pe = torch.zeros(max_len, d_module)\n",
    "        # unsqueeze => 在指定位置插入一个新的维度\n",
    "        position = torch.arange(0, max_len, dtype=torch.float32).unsqueeze(1)\n",
    "        # (seq_len, batch_size, d_model)\n",
    "        # 比例因子\n",
    "        div_term = torch.exp(\n",
    "            torch.arange(0, d_module, 2).float() * (-math.log(10000.0) / d_module)\n",
    "        )\n",
    "        # 0::2 切片表达式，索引从零开始，步长为2（隔一个索引取一个）\n",
    "        pe[:, 0::2] = torch.sin(position * div_term)\n",
    "        pe[:, 1::2] = torch.cos(position * div_term)\n",
    "\n",
    "        pe = pe.unsqueeze(0).transpose(0, 1)\n",
    "        # 将位置编码矩阵注册为一个缓冲区, 避免在每次前向传播时重新计算位置编码\n",
    "        self.register_buffer(\"pe\", pe)\n",
    "\n",
    "    def forward(self, x):\n",
    "        x = x + self.pe[0 : x.size(0), :]\n",
    "        return self.dropout(x)"
   ]
  },
  {
   "cell_type": "markdown",
   "metadata": {},
   "source": [
    "Tip1 unsqueeze\n"
   ]
  },
  {
   "cell_type": "markdown",
   "metadata": {},
   "source": [
    "Tip2 transpose\n"
   ]
  },
  {
   "cell_type": "markdown",
   "metadata": {},
   "source": [
    "Tip3 register_buffer\n"
   ]
  },
  {
   "cell_type": "code",
   "execution_count": 51,
   "metadata": {},
   "outputs": [
    {
     "name": "stdout",
     "output_type": "stream",
     "text": [
      "tensor([0, 1, 2, 3, 4, 5, 6, 7, 8, 9])\n",
      "tensor([1, 3, 5, 7, 9])\n",
      "tensor([0., 2., 4., 6., 8.])\n",
      "tensor([[0.],\n",
      "        [1.],\n",
      "        [2.],\n",
      "        [3.],\n",
      "        [4.],\n",
      "        [5.],\n",
      "        [6.],\n",
      "        [7.],\n",
      "        [8.],\n",
      "        [9.]])\n",
      "tensor([[0., 1., 2., 3., 4., 5., 6., 7., 8., 9.]])\n"
     ]
    }
   ],
   "source": [
    "import torch\n",
    "import math\n",
    "\n",
    "x = torch.arange(0, 10)\n",
    "print(x)\n",
    "print(x[1::2])\n",
    "print(torch.arange(0, 10, 2, dtype=torch.float32))\n",
    "print(torch.arange(0, 10, dtype=torch.float32).unsqueeze(1))\n",
    "print(torch.arange(0, 10, dtype=torch.float32).unsqueeze(0))\n",
    "# x1 = torch.arange(0, 10, 2)\n",
    "# x2 = math.log(10000.0) / 10\n",
    "# print(x1)\n",
    "# print(x2)\n",
    "# print(torch.exp(x1)/-x2)"
   ]
  },
  {
   "cell_type": "markdown",
   "metadata": {},
   "source": [
    "### Step2 Pad_Mask and Subsequence Mask\n",
    "\n",
    "按照 mini-batch 中最大的句长对剩余的句子进行补齐，一般用 0 进行填充(padding)\n",
    "mask 操作，让无效的区域不参与运算，一般是给无效区域加一个很大的负数偏置\n",
    "\n",
    "![](./img/padding_mask.png)\n"
   ]
  },
  {
   "cell_type": "code",
   "execution_count": 52,
   "metadata": {},
   "outputs": [],
   "source": [
    "def get_attn_pad_mask(seq_q, seq_k):\n",
    "    batch_size, len_q = seq_q.size()\n",
    "    print(seq_q.size())\n",
    "    print(seq_k.size()[0])\n",
    "    batch_size, len_k = seq_k.size()\n",
    "    # data.eq(0) 是比较操作，找出序列中所有等于零的元素,返回一个True（即填充（PAD）token），False 表示其他非填充元素\n",
    "    pad_attn_mask = seq_k.data.eq(0).unsqueeze(1)\n",
    "    # 根据指定的形状参数沿着指定的维度扩展输入张量\n",
    "    # print(pad_attn_mask.expand(batch_size, len_q, len_k))\n",
    "    return pad_attn_mask.expand(batch_size, len_q, len_k)"
   ]
  },
  {
   "cell_type": "markdown",
   "metadata": {},
   "source": [
    "Tip4 eq()\n"
   ]
  },
  {
   "cell_type": "code",
   "execution_count": 53,
   "metadata": {},
   "outputs": [],
   "source": [
    "def get_attn_subsequence_mask(seq):\n",
    "    # 在decoder中用到，屏蔽未来时刻的信息\n",
    "    attn_shape = [seq.size(0), seq.size(1), seq.size(1)]\n",
    "    subsequence_mask = np.triu(np.ones(attn_shape), k=1)\n",
    "    subsequence_mask = torch.from_numpy(subsequence_mask).byte()\n",
    "    # torch.from_numpy().byte() 将numpy数组转换为Tensor\n",
    "    return subsequence_mask"
   ]
  },
  {
   "cell_type": "markdown",
   "metadata": {},
   "source": [
    "Tip5 np.triu()\n"
   ]
  },
  {
   "cell_type": "code",
   "execution_count": 54,
   "metadata": {},
   "outputs": [
    {
     "name": "stdout",
     "output_type": "stream",
     "text": [
      "tensor([1, 2, 3])\n",
      "torch.Size([3])\n",
      "torch.Size([1, 3])\n",
      "tensor([[1, 2, 3]])\n",
      "tensor([[1],\n",
      "        [2],\n",
      "        [3]])\n",
      "torch.Size([3, 1])\n"
     ]
    }
   ],
   "source": [
    "import torch\n",
    "\n",
    "# 原始一维张量\n",
    "a = torch.tensor([1, 2, 3])\n",
    "print(a)\n",
    "print(a.size())\n",
    "# 在最后一个维度之前添加新维度\n",
    "b = a.unsqueeze(0)\n",
    "print(b.size())\n",
    "print(b)\n",
    "c = a.unsqueeze(1)\n",
    "print(c)\n",
    "print(c.size())"
   ]
  },
  {
   "cell_type": "markdown",
   "metadata": {},
   "source": [
    "### Step3 ScaledDotProductAttention\n",
    "\n",
    "- ![](./img/attention.png)\n",
    "- ![](./img/self_attention.png)\n"
   ]
  },
  {
   "cell_type": "code",
   "execution_count": 55,
   "metadata": {},
   "outputs": [],
   "source": [
    "class ScaledDotProductAttention(nn.Module):\n",
    "    \"\"\"缩放点积注意力 单词间的权重计算\"\"\"\n",
    "\n",
    "    def __init__(self):\n",
    "        super(ScaledDotProductAttention, self).__init__()\n",
    "\n",
    "    \"\"\"\n",
    "        Q: [batch_size, n_heads, len_q, d_k]\n",
    "        K: [batch_size, n_heads, len_k, d_k]\n",
    "        V: [batch_size, n_heads, len_v(=len_k), d_v]\n",
    "        attn_mask: [batch_size, n_heads, seq_len, seq_len]\n",
    "    \"\"\"\n",
    "\n",
    "    def forward(self, Q, K: torch.Tensor, V, attn_mask):\n",
    "        # 将Q和K的最后一个维度进行点积，在最后一个维度上进行的。\n",
    "        scores: torch.Tensor = torch.matmul(Q, K.transpose(-1, -2)) / np.sqrt(d_k)\n",
    "        # mask --- qt~qn => 很大的负数\n",
    "        scores.masked_fill_(attn_mask, -1e9)\n",
    "        # softmax()高得分接近1，低得分接近0，所有概率之和为1\n",
    "        attn = nn.Softmax(dim=1)(scores)\n",
    "        # 再乘值向量得到上下文的权重\n",
    "        context = torch.matmul(attn, V)\n",
    "\n",
    "        return context, attn"
   ]
  },
  {
   "cell_type": "code",
   "execution_count": null,
   "metadata": {},
   "outputs": [],
   "source": []
  },
  {
   "cell_type": "markdown",
   "metadata": {},
   "source": [
    "### Step4 MultiHeadAttention\n",
    "\n",
    "增加可学习的参数 W_Q, W_K, W_V\n"
   ]
  },
  {
   "cell_type": "code",
   "execution_count": 56,
   "metadata": {},
   "outputs": [],
   "source": [
    "class MultiHeadAttention(nn.Module):\n",
    "    def __init__(self):\n",
    "        super(MultiHeadAttention, self).__init__()\n",
    "        self.W_Q = nn.Linear(d_model, d_k * n_heads, bias=False)\n",
    "        self.W_K = nn.Linear(d_model, d_k * n_heads, bias=False)\n",
    "        self.W_V = nn.Linear(d_model, d_v * n_heads, bias=False)\n",
    "        # 将多头注意力的输出进行聚合和转换，将输入维度（batch_size,n_heads*d_v)转换为(~, d_model)\n",
    "        self.fc = nn.Linear(n_heads * d_v, d_model, bias=False)\n",
    "\n",
    "    def forward(self, input_Q, input_K, input_V, attn_mask):\n",
    "        \"\"\"\n",
    "        input_Q: [batch_size, len_q, d_model]\n",
    "        input_K: [batch_size, len_k, d_model]\n",
    "        input_V: [batch_size, len_v(=len_k), d_model]\n",
    "        attn_mask: [batch_size, seq_len, seq_len]\n",
    "        \"\"\"\n",
    "        # 残差\n",
    "        residual, batch_size = input_Q, input_Q.size(0)\n",
    "\n",
    "        Q = self.W_Q(input_Q).view(batch_size, -1, n_heads, d_k).transpose(1, 2)\n",
    "        K = self.W_K(input_K).view(batch_size, -1, n_heads, d_k).transpose(1, 2)\n",
    "        V = self.W_V(input_V).view(batch_size, -1, n_heads, d_k).transpose(1, 2)\n",
    "\n",
    "        attn_mask = attn_mask.unsqueeze(1).repeat(1, n_heads, 1, 1)\n",
    "        # 实例化->传递参数\n",
    "        contextm, attn = ScaledDotProductAttention()(Q, K, V, attn_mask)\n",
    "        context = context.transpose(1, 2).reshape(batch_size, -1, n_heads * d_v)\n",
    "        # 全连接映射成一维矩阵\n",
    "        output = self.fc(context)\n",
    "        # 残差\n",
    "        return nn.LayerNorm(d_model).cuda()(output + residual), attn"
   ]
  },
  {
   "cell_type": "markdown",
   "metadata": {},
   "source": [
    "Tip6 torch.matmul()\n"
   ]
  },
  {
   "cell_type": "markdown",
   "metadata": {},
   "source": [
    "Tip7 masked_fill()\n"
   ]
  },
  {
   "cell_type": "markdown",
   "metadata": {},
   "source": [
    "### Step5 FeedForward Layer\n",
    "\n",
    "前馈神经网络  \n",
    "两次线性变换，RELU 作激活层  \n",
    "残差连接（防止原始数据丢失）\n"
   ]
  },
  {
   "cell_type": "code",
   "execution_count": 57,
   "metadata": {},
   "outputs": [],
   "source": [
    "class PoswiseFeedForwardNet(nn.Module):\n",
    "    def __init__(self):\n",
    "        super(PoswiseFeedForwardNet, self).__init__()\n",
    "        self.fc = nn.Sequential(\n",
    "            nn.Linear(d_model, d_ff, bias=False),\n",
    "            nn.ReLU(),\n",
    "            nn.Linear(d_ff, d_model, bias=False),\n",
    "        )\n",
    "\n",
    "    def forward(self, inputs):\n",
    "        # 残差保存原始输入\n",
    "        residual = inputs\n",
    "        output = self.fc(inputs)\n",
    "        return nn.LayerNorm(d_model).cuda()(output + residual)"
   ]
  },
  {
   "cell_type": "markdown",
   "metadata": {},
   "source": [
    "### Step6 Encoder\n",
    "\n",
    "self-attention feedforward_layer\n"
   ]
  },
  {
   "cell_type": "code",
   "execution_count": 58,
   "metadata": {},
   "outputs": [],
   "source": [
    "class EncoderLayer(nn.Module):\n",
    "    def __init__(self):\n",
    "        super(EncoderLayer, self).__init__()\n",
    "        self.enc_self_attn = MultiHeadAttention()\n",
    "        self.pos_ffn = PoswiseFeedForwardNet()\n",
    "\n",
    "    def forward(self, enc_inputs, enc_self_attn_mask):\n",
    "        # K, Q, V, attn_mask\n",
    "        enc_outputs, attn = self.enc_self_attn(\n",
    "            enc_inputs, enc_inputs, enc_inputs, enc_self_attn_mask\n",
    "        )\n",
    "        enc_inputs = self.pos_ffn(enc_outputs)\n",
    "\n",
    "        return enc_outputs, attn"
   ]
  },
  {
   "cell_type": "code",
   "execution_count": 59,
   "metadata": {},
   "outputs": [],
   "source": [
    "class Encoder(nn.Module):\n",
    "    \"\"\"Encoder Block\"\"\"\n",
    "\n",
    "    def __init__(self):\n",
    "        super(Encoder, self).__init__()\n",
    "        # 词嵌入\n",
    "        self.src_emb = nn.Embedding(src_vocab_size, d_model)\n",
    "        # 位置编码\n",
    "        self.pos_emb = PositionalEncoding(d_model)\n",
    "        # ? 模块列表，包含多个编码器层\n",
    "        self.layers = nn.ModuleList([EncoderLayer() for _ in range(n_layers)])\n",
    "\n",
    "    def forward(self, enc_inputs):\n",
    "        enc_outputs = self.src_emb(enc_inputs)\n",
    "        enc_outputs = self.pos_emb(enc_outputs.transpose(0, 1)).transpose(0, 1)\n",
    "        print(enc_outputs)\n",
    "        enc_self_attn_mask = get_attn_pad_mask(enc_inputs, enc_outputs)\n",
    "        enc_self_attns = []\n",
    "        # 循环遍历每一个编码器层，将词向量和自注意力掩码传递给每一个层，获取该层的输出及自注意力权重，并存储在列表中\n",
    "        for layer in self.layers:\n",
    "            enc_outputs, enc_self_attn = layer(enc_outputs, enc_self_attn_mask)\n",
    "            enc_self_attns.append(enc_self_attn)\n",
    "\n",
    "        return enc_outputs, enc_self_attns"
   ]
  },
  {
   "cell_type": "markdown",
   "metadata": {},
   "source": [
    "### Step7 Decoder\n",
    "\n",
    "Masked Multihead attention\n",
    "Multihead attention\n",
    "Feedforward network\n"
   ]
  },
  {
   "cell_type": "code",
   "execution_count": 60,
   "metadata": {},
   "outputs": [],
   "source": [
    "class DecoderLayer(nn.Module):\n",
    "    def __init__(self):\n",
    "        super(DecoderLayer, self).__init__()\n",
    "        self.dec_self_attn = MultiHeadAttention()\n",
    "        self.dec_enc_attn = MultiHeadAttention()\n",
    "        self.pos_ffn = PoswiseFeedForwardNet()\n",
    "\n",
    "    def forward(self, dec_inputs, enc_outputs, dec_self_attn_mask, dec_enc_attn_mask):\n",
    "        dec_outputs, dec_self_attn = self.dec_self_attn(\n",
    "            dec_inputs, dec_inputs, dec_inputs, dec_self_attn_mask\n",
    "        )\n",
    "        # ?将 dec_outputs 作为生成 Q 的元素，enc_outputs 作为生成 K 和 V 的元素\n",
    "        dec_outputs, dec_enc_attn = self.dec_enc_attn(\n",
    "            dec_outputs, enc_outputs, enc_outputs, dec_enc_attn_mask\n",
    "        )\n",
    "\n",
    "        dec_outputs = self.pos_ffn(dec_outputs)\n",
    "\n",
    "        return dec_outputs, dec_self_attn, dec_enc_attn"
   ]
  },
  {
   "cell_type": "code",
   "execution_count": 61,
   "metadata": {},
   "outputs": [],
   "source": [
    "class Decoder(nn.Module):\n",
    "    def __init__(self):\n",
    "        super(Decoder, self).__init__()\n",
    "        self.tgt_emb = nn.Embedding(tgt_vocab_size, d_model)\n",
    "        self.pos_emb = PositionalEncoding(d_model)\n",
    "        self.layers = nn.ModuleList([DecoderLayer() for _ in range(n_layers)])\n",
    "\n",
    "    def forward(self, dec_inputs, enc_inputs, enc_outputs):\n",
    "        dec_outputs = self.tgt_emb(dec_inputs)\n",
    "        dec_outputs = self.pos_emb(dec_outputs.transpose(0, 1)).transpose(0, 1).cuda()\n",
    "\n",
    "        dec_self_attn_pad_mask = get_attn_pad_mask(dec_inputs, dec_inputs).cuda()\n",
    "\n",
    "        dec_self_attn_subsequence_mask = get_attn_subsequence_mask(dec_inputs).cuda()\n",
    "        # torch.gt(a, value),将 a 中各个位置上的元素和 value 比较，若大于 value，则该位置取 1，否则取 0\n",
    "        dec_self_attn_mask = torch.gt(\n",
    "            (dec_self_attn_pad_mask + dec_self_attn_subsequence_mask), 0\n",
    "        ).cuda()\n",
    "\n",
    "        dec_enc_attn_mask = get_attn_pad_mask(dec_inputs, enc_inputs)\n",
    "\n",
    "        dec_self_attns, dec_enc_attns = [], []\n",
    "        for layer in self.layers:\n",
    "            dec_outputs, dec_self_attn, dec_enc_attn = layer(\n",
    "                dec_outputs, enc_outputs, dec_self_attn_mask, dec_enc_attn_mask\n",
    "            )\n",
    "            dec_self_attns.append(dec_self_attn)\n",
    "            dec_enc_attns.append(dec_enc_attn)\n",
    "        return dec_outputs, dec_self_attns, dec_enc_attns"
   ]
  },
  {
   "cell_type": "markdown",
   "metadata": {},
   "source": [
    "Tip torch.gt()  \n",
    "torch.gt(a, value) 的意思是，将 a 中各个位置上的元素和 value 比较，若大于 value，则该位置取 1，否则取 0\n"
   ]
  },
  {
   "cell_type": "markdown",
   "metadata": {},
   "source": [
    "### Step8 Transformer\n"
   ]
  },
  {
   "cell_type": "code",
   "execution_count": 62,
   "metadata": {},
   "outputs": [],
   "source": [
    "class Transformer(nn.Module):\n",
    "    def __init__(self):\n",
    "        super(Transformer, self).__init__()\n",
    "        self.encoder = Encoder().cuda()\n",
    "        self.decoder = Decoder().cuda()\n",
    "        self.projection = nn.Linear(d_model, tgt_vocab_size, bias=False).cuda()\n",
    "\n",
    "    def forward(self, enc_inputs, dec_inputs):\n",
    "        enc_outputs, enc_self_attns = self.encoder(enc_inputs)\n",
    "        dec_outputs, dec_self_attns, dec_enc_attns = s = self.decoder(\n",
    "            dec_inputs, enc_inputs, enc_outputs\n",
    "        )\n",
    "        dec_logits = self.projection(dec_outputs)\n",
    "\n",
    "        return (\n",
    "            dec_logits.view(-1, dec_logits.size(-1)),\n",
    "            enc_self_attns,\n",
    "            dec_self_attns,\n",
    "            dec_enc_attns,\n",
    "        )"
   ]
  },
  {
   "cell_type": "markdown",
   "metadata": {},
   "source": [
    "### Step9 数据处理导入\n"
   ]
  },
  {
   "cell_type": "markdown",
   "metadata": {},
   "source": [
    "### Step10 损失函数，优化器\n"
   ]
  },
  {
   "cell_type": "code",
   "execution_count": 63,
   "metadata": {},
   "outputs": [],
   "source": [
    "model = Transformer()\n",
    "# ignore_index=0,不计算pad的损失\n",
    "criterion = nn.CrossEntropyLoss(ignore_index=0)\n",
    "optimizer = torch.optim.SGD(model.parameters(), lr=1e-3, momentum=0.99)"
   ]
  },
  {
   "cell_type": "markdown",
   "metadata": {},
   "source": [
    "### Step11 训练\n"
   ]
  },
  {
   "cell_type": "code",
   "execution_count": 64,
   "metadata": {},
   "outputs": [
    {
     "name": "stdout",
     "output_type": "stream",
     "text": [
      "tensor([[[ 0.6063,  3.3110,  0.5439,  ..., -0.4228,  0.1899,  1.7755],\n",
      "         [ 0.1267,  0.3140,  2.4090,  ...,  0.1230, -0.4121,  0.0000],\n",
      "         [ 2.2552, -1.9409,  0.7567,  ..., -0.5302,  1.0599,  1.6775],\n",
      "         [-0.0000, -0.0000, -1.0321,  ...,  2.2619,  0.6345,  1.4845],\n",
      "         [-1.9242, -0.9691, -0.5569,  ...,  0.6674, -0.4525,  0.8443]],\n",
      "\n",
      "        [[ 0.0000,  3.3110,  0.5439,  ..., -0.4228,  0.1899,  0.0000],\n",
      "         [ 0.1267,  0.3140,  2.4090,  ...,  0.0000, -0.4121,  0.8895],\n",
      "         [ 2.2552, -1.9409,  0.7567,  ..., -0.5302,  1.0599,  1.6775],\n",
      "         [ 0.4689, -0.5463, -1.2471,  ...,  1.6937,  0.5087,  0.9944],\n",
      "         [-1.9242, -0.9691, -0.5569,  ...,  0.6674, -0.4525,  0.0000]]],\n",
      "       device='cuda:0', grad_fn=<TransposeBackward0>)\n",
      "torch.Size([2, 5])\n",
      "2\n"
     ]
    },
    {
     "ename": "ValueError",
     "evalue": "too many values to unpack (expected 2)",
     "output_type": "error",
     "traceback": [
      "\u001b[1;31m---------------------------------------------------------------------------\u001b[0m",
      "\u001b[1;31mValueError\u001b[0m                                Traceback (most recent call last)",
      "\u001b[1;32md:\\work\\zufe\\nlp\\transfomer\\realize\\note.ipynb 单元格 37\u001b[0m line \u001b[0;36m6\n\u001b[0;32m      <a href='vscode-notebook-cell:/d%3A/work/zufe/nlp/transfomer/realize/note.ipynb#X51sZmlsZQ%3D%3D?line=1'>2</a>\u001b[0m \u001b[39mfor\u001b[39;00m enc_inputs, dec_inputs, dec_outputs \u001b[39min\u001b[39;00m loader:\n\u001b[0;32m      <a href='vscode-notebook-cell:/d%3A/work/zufe/nlp/transfomer/realize/note.ipynb#X51sZmlsZQ%3D%3D?line=2'>3</a>\u001b[0m     \u001b[39m# 存储到gpu中\u001b[39;00m\n\u001b[0;32m      <a href='vscode-notebook-cell:/d%3A/work/zufe/nlp/transfomer/realize/note.ipynb#X51sZmlsZQ%3D%3D?line=3'>4</a>\u001b[0m     enc_inputs, dec_inputs, dec_outputs \u001b[39m=\u001b[39m enc_inputs\u001b[39m.\u001b[39mcuda(\n\u001b[0;32m      <a href='vscode-notebook-cell:/d%3A/work/zufe/nlp/transfomer/realize/note.ipynb#X51sZmlsZQ%3D%3D?line=4'>5</a>\u001b[0m     ), dec_inputs\u001b[39m.\u001b[39mcuda(), dec_outputs\u001b[39m.\u001b[39mcuda()\n\u001b[1;32m----> <a href='vscode-notebook-cell:/d%3A/work/zufe/nlp/transfomer/realize/note.ipynb#X51sZmlsZQ%3D%3D?line=5'>6</a>\u001b[0m     outputs, enc_self_attns, dec_self_attns, dec_enc_attns \u001b[39m=\u001b[39m model(\n\u001b[0;32m      <a href='vscode-notebook-cell:/d%3A/work/zufe/nlp/transfomer/realize/note.ipynb#X51sZmlsZQ%3D%3D?line=6'>7</a>\u001b[0m         enc_inputs, dec_inputs)\n\u001b[0;32m      <a href='vscode-notebook-cell:/d%3A/work/zufe/nlp/transfomer/realize/note.ipynb#X51sZmlsZQ%3D%3D?line=7'>8</a>\u001b[0m     loss \u001b[39m=\u001b[39m criterion(outputs, dec_outputs\u001b[39m.\u001b[39mview(\u001b[39m-\u001b[39m\u001b[39m1\u001b[39m))\n\u001b[0;32m      <a href='vscode-notebook-cell:/d%3A/work/zufe/nlp/transfomer/realize/note.ipynb#X51sZmlsZQ%3D%3D?line=8'>9</a>\u001b[0m     \u001b[39mprint\u001b[39m(\u001b[39m'\u001b[39m\u001b[39mEpoch:\u001b[39m\u001b[39m'\u001b[39m, \u001b[39m'\u001b[39m\u001b[39m%04d\u001b[39;00m\u001b[39m'\u001b[39m \u001b[39m%\u001b[39m (epoch \u001b[39m+\u001b[39m \u001b[39m1\u001b[39m), \u001b[39m'\u001b[39m\u001b[39mloss =\u001b[39m\u001b[39m'\u001b[39m, \u001b[39m'\u001b[39m\u001b[39m{:.6f}\u001b[39;00m\u001b[39m'\u001b[39m\u001b[39m.\u001b[39mformat(loss))\n",
      "File \u001b[1;32mc:\\Users\\gu\\AppData\\Local\\conda\\conda\\envs\\py310\\lib\\site-packages\\torch\\nn\\modules\\module.py:1501\u001b[0m, in \u001b[0;36mModule._call_impl\u001b[1;34m(self, *args, **kwargs)\u001b[0m\n\u001b[0;32m   1496\u001b[0m \u001b[39m# If we don't have any hooks, we want to skip the rest of the logic in\u001b[39;00m\n\u001b[0;32m   1497\u001b[0m \u001b[39m# this function, and just call forward.\u001b[39;00m\n\u001b[0;32m   1498\u001b[0m \u001b[39mif\u001b[39;00m \u001b[39mnot\u001b[39;00m (\u001b[39mself\u001b[39m\u001b[39m.\u001b[39m_backward_hooks \u001b[39mor\u001b[39;00m \u001b[39mself\u001b[39m\u001b[39m.\u001b[39m_backward_pre_hooks \u001b[39mor\u001b[39;00m \u001b[39mself\u001b[39m\u001b[39m.\u001b[39m_forward_hooks \u001b[39mor\u001b[39;00m \u001b[39mself\u001b[39m\u001b[39m.\u001b[39m_forward_pre_hooks\n\u001b[0;32m   1499\u001b[0m         \u001b[39mor\u001b[39;00m _global_backward_pre_hooks \u001b[39mor\u001b[39;00m _global_backward_hooks\n\u001b[0;32m   1500\u001b[0m         \u001b[39mor\u001b[39;00m _global_forward_hooks \u001b[39mor\u001b[39;00m _global_forward_pre_hooks):\n\u001b[1;32m-> 1501\u001b[0m     \u001b[39mreturn\u001b[39;00m forward_call(\u001b[39m*\u001b[39margs, \u001b[39m*\u001b[39m\u001b[39m*\u001b[39mkwargs)\n\u001b[0;32m   1502\u001b[0m \u001b[39m# Do not call functions when jit is used\u001b[39;00m\n\u001b[0;32m   1503\u001b[0m full_backward_hooks, non_full_backward_hooks \u001b[39m=\u001b[39m [], []\n",
      "\u001b[1;32md:\\work\\zufe\\nlp\\transfomer\\realize\\note.ipynb 单元格 37\u001b[0m line \u001b[0;36m9\n\u001b[0;32m      <a href='vscode-notebook-cell:/d%3A/work/zufe/nlp/transfomer/realize/note.ipynb#X51sZmlsZQ%3D%3D?line=7'>8</a>\u001b[0m \u001b[39mdef\u001b[39;00m \u001b[39mforward\u001b[39m(\u001b[39mself\u001b[39m, enc_inputs, dec_inputs):\n\u001b[1;32m----> <a href='vscode-notebook-cell:/d%3A/work/zufe/nlp/transfomer/realize/note.ipynb#X51sZmlsZQ%3D%3D?line=8'>9</a>\u001b[0m     enc_outputs, enc_self_attns \u001b[39m=\u001b[39m \u001b[39mself\u001b[39;49m\u001b[39m.\u001b[39;49mencoder(enc_inputs)\n\u001b[0;32m     <a href='vscode-notebook-cell:/d%3A/work/zufe/nlp/transfomer/realize/note.ipynb#X51sZmlsZQ%3D%3D?line=9'>10</a>\u001b[0m     dec_outputs, dec_self_attns, dec_enc_attns \u001b[39m=\u001b[39m s \u001b[39m=\u001b[39m \u001b[39mself\u001b[39m\u001b[39m.\u001b[39mdecoder(\n\u001b[0;32m     <a href='vscode-notebook-cell:/d%3A/work/zufe/nlp/transfomer/realize/note.ipynb#X51sZmlsZQ%3D%3D?line=10'>11</a>\u001b[0m         dec_inputs, enc_inputs, enc_outputs)\n\u001b[0;32m     <a href='vscode-notebook-cell:/d%3A/work/zufe/nlp/transfomer/realize/note.ipynb#X51sZmlsZQ%3D%3D?line=11'>12</a>\u001b[0m     dec_logits \u001b[39m=\u001b[39m \u001b[39mself\u001b[39m\u001b[39m.\u001b[39mprojection(dec_outputs)\n",
      "File \u001b[1;32mc:\\Users\\gu\\AppData\\Local\\conda\\conda\\envs\\py310\\lib\\site-packages\\torch\\nn\\modules\\module.py:1501\u001b[0m, in \u001b[0;36mModule._call_impl\u001b[1;34m(self, *args, **kwargs)\u001b[0m\n\u001b[0;32m   1496\u001b[0m \u001b[39m# If we don't have any hooks, we want to skip the rest of the logic in\u001b[39;00m\n\u001b[0;32m   1497\u001b[0m \u001b[39m# this function, and just call forward.\u001b[39;00m\n\u001b[0;32m   1498\u001b[0m \u001b[39mif\u001b[39;00m \u001b[39mnot\u001b[39;00m (\u001b[39mself\u001b[39m\u001b[39m.\u001b[39m_backward_hooks \u001b[39mor\u001b[39;00m \u001b[39mself\u001b[39m\u001b[39m.\u001b[39m_backward_pre_hooks \u001b[39mor\u001b[39;00m \u001b[39mself\u001b[39m\u001b[39m.\u001b[39m_forward_hooks \u001b[39mor\u001b[39;00m \u001b[39mself\u001b[39m\u001b[39m.\u001b[39m_forward_pre_hooks\n\u001b[0;32m   1499\u001b[0m         \u001b[39mor\u001b[39;00m _global_backward_pre_hooks \u001b[39mor\u001b[39;00m _global_backward_hooks\n\u001b[0;32m   1500\u001b[0m         \u001b[39mor\u001b[39;00m _global_forward_hooks \u001b[39mor\u001b[39;00m _global_forward_pre_hooks):\n\u001b[1;32m-> 1501\u001b[0m     \u001b[39mreturn\u001b[39;00m forward_call(\u001b[39m*\u001b[39margs, \u001b[39m*\u001b[39m\u001b[39m*\u001b[39mkwargs)\n\u001b[0;32m   1502\u001b[0m \u001b[39m# Do not call functions when jit is used\u001b[39;00m\n\u001b[0;32m   1503\u001b[0m full_backward_hooks, non_full_backward_hooks \u001b[39m=\u001b[39m [], []\n",
      "\u001b[1;32md:\\work\\zufe\\nlp\\transfomer\\realize\\note.ipynb 单元格 37\u001b[0m line \u001b[0;36m1\n\u001b[0;32m     <a href='vscode-notebook-cell:/d%3A/work/zufe/nlp/transfomer/realize/note.ipynb#X51sZmlsZQ%3D%3D?line=14'>15</a>\u001b[0m enc_outputs \u001b[39m=\u001b[39m \u001b[39mself\u001b[39m\u001b[39m.\u001b[39mpos_emb(enc_outputs\u001b[39m.\u001b[39mtranspose(\u001b[39m0\u001b[39m, \u001b[39m1\u001b[39m))\u001b[39m.\u001b[39mtranspose(\u001b[39m0\u001b[39m, \u001b[39m1\u001b[39m)\n\u001b[0;32m     <a href='vscode-notebook-cell:/d%3A/work/zufe/nlp/transfomer/realize/note.ipynb#X51sZmlsZQ%3D%3D?line=15'>16</a>\u001b[0m \u001b[39mprint\u001b[39m(enc_outputs)\n\u001b[1;32m---> <a href='vscode-notebook-cell:/d%3A/work/zufe/nlp/transfomer/realize/note.ipynb#X51sZmlsZQ%3D%3D?line=16'>17</a>\u001b[0m enc_self_attn_mask \u001b[39m=\u001b[39m get_attn_pad_mask(enc_inputs, enc_outputs)\n\u001b[0;32m     <a href='vscode-notebook-cell:/d%3A/work/zufe/nlp/transfomer/realize/note.ipynb#X51sZmlsZQ%3D%3D?line=17'>18</a>\u001b[0m enc_self_attns \u001b[39m=\u001b[39m []\n\u001b[0;32m     <a href='vscode-notebook-cell:/d%3A/work/zufe/nlp/transfomer/realize/note.ipynb#X51sZmlsZQ%3D%3D?line=18'>19</a>\u001b[0m \u001b[39m# 循环遍历每一个编码器层，将词向量和自注意力掩码传递给每一个层，获取该层的输出及自注意力权重，并存储在列表中\u001b[39;00m\n",
      "\u001b[1;32md:\\work\\zufe\\nlp\\transfomer\\realize\\note.ipynb 单元格 37\u001b[0m line \u001b[0;36m5\n\u001b[0;32m      <a href='vscode-notebook-cell:/d%3A/work/zufe/nlp/transfomer/realize/note.ipynb#X51sZmlsZQ%3D%3D?line=2'>3</a>\u001b[0m \u001b[39mprint\u001b[39m(seq_q\u001b[39m.\u001b[39msize())\n\u001b[0;32m      <a href='vscode-notebook-cell:/d%3A/work/zufe/nlp/transfomer/realize/note.ipynb#X51sZmlsZQ%3D%3D?line=3'>4</a>\u001b[0m \u001b[39mprint\u001b[39m(seq_k\u001b[39m.\u001b[39msize()[\u001b[39m0\u001b[39m])\n\u001b[1;32m----> <a href='vscode-notebook-cell:/d%3A/work/zufe/nlp/transfomer/realize/note.ipynb#X51sZmlsZQ%3D%3D?line=4'>5</a>\u001b[0m batch_size, len_k \u001b[39m=\u001b[39m seq_k\u001b[39m.\u001b[39msize()\n\u001b[0;32m      <a href='vscode-notebook-cell:/d%3A/work/zufe/nlp/transfomer/realize/note.ipynb#X51sZmlsZQ%3D%3D?line=5'>6</a>\u001b[0m \u001b[39m# data.eq(0) 是比较操作，找出序列中所有等于零的元素,返回一个True（即填充（PAD）token），False 表示其他非填充元素\u001b[39;00m\n\u001b[0;32m      <a href='vscode-notebook-cell:/d%3A/work/zufe/nlp/transfomer/realize/note.ipynb#X51sZmlsZQ%3D%3D?line=6'>7</a>\u001b[0m pad_attn_mask \u001b[39m=\u001b[39m seq_k\u001b[39m.\u001b[39mdata\u001b[39m.\u001b[39meq(\u001b[39m0\u001b[39m)\u001b[39m.\u001b[39munsqueeze(\u001b[39m1\u001b[39m)\n",
      "\u001b[1;31mValueError\u001b[0m: too many values to unpack (expected 2)"
     ]
    }
   ],
   "source": [
    "for epoch in range(30):\n",
    "    for enc_inputs, dec_inputs, dec_outputs in loader:\n",
    "        # 存储到gpu中\n",
    "        enc_inputs, dec_inputs, dec_outputs = (\n",
    "            enc_inputs.cuda(),\n",
    "            dec_inputs.cuda(),\n",
    "            dec_outputs.cuda(),\n",
    "        )\n",
    "        outputs, enc_self_attns, dec_self_attns, dec_enc_attns = model(\n",
    "            enc_inputs, dec_inputs\n",
    "        )\n",
    "        loss = criterion(outputs, dec_outputs.view(-1))\n",
    "        print(\"Epoch:\", \"%04d\" % (epoch + 1), \"loss =\", \"{:.6f}\".format(loss))\n",
    "\n",
    "        optimizer.zero_grad()\n",
    "        loss.backward()\n",
    "        optimizer.step()"
   ]
  },
  {
   "cell_type": "markdown",
   "metadata": {},
   "source": [
    "### Step12 测试\n"
   ]
  },
  {
   "cell_type": "code",
   "execution_count": null,
   "metadata": {},
   "outputs": [],
   "source": [
    "def greedy_decoder(model, enc_input, start_symbol):\n",
    "    \"\"\"\n",
    "    For simplicity, a Greedy Decoder is Beam search when K=1. This is necessary for inference as we don't know the\n",
    "    target sequence input. Therefore we try to generate the target input word by word, then feed it into the transformer.\n",
    "    Starting Reference: http://nlp.seas.harvard.edu/2018/04/03/attention.html#greedy-decoding\n",
    "    :param model: Transformer Model\n",
    "    :param enc_input: The encoder input\n",
    "    :param start_symbol: The start symbol. In this example it is 'S' which corresponds to index 4\n",
    "    :return: The target input\n",
    "    \"\"\"\n",
    "    enc_outputs, enc_self_attns = model.encoder(enc_input)\n",
    "    dec_input = torch.zeros(1, 0).type_as(enc_input.data)\n",
    "    terminal = False\n",
    "    next_symbol = start_symbol\n",
    "    while not terminal:\n",
    "        dec_input = torch.cat(\n",
    "            [\n",
    "                dec_input.detach(),\n",
    "                torch.tensor([[next_symbol]], dtype=enc_input.dtype).cuda(),\n",
    "            ],\n",
    "            -1,\n",
    "        )\n",
    "        dec_outputs, _, _ = model.decoder(dec_input, enc_input, enc_outputs)\n",
    "        projected = model.projection(dec_outputs)\n",
    "        prob = projected.squeeze(0).max(dim=-1, keepdim=False)[1]\n",
    "        next_word = prob.data[-1]\n",
    "        next_symbol = next_word\n",
    "        if next_symbol == tgt_vocab[\".\"]:\n",
    "            terminal = True\n",
    "        print(next_word)\n",
    "    return dec_input\n",
    "\n",
    "\n",
    "# Test\n",
    "enc_inputs, _, _ = next(iter(loader))\n",
    "enc_inputs = enc_inputs.cuda()\n",
    "for i in range(len(enc_inputs)):\n",
    "    greedy_dec_input = greedy_decoder(\n",
    "        model, enc_inputs[i].view(1, -1), start_symbol=tgt_vocab[\"S\"]\n",
    "    )\n",
    "    predict, _, _, _ = model(enc_inputs[i].view(1, -1), greedy_dec_input)\n",
    "    predict = predict.data.max(1, keepdim=True)[1]\n",
    "    print(enc_inputs[i], \"->\", [idx2word[n.item()] for n in predict.squeeze()])"
   ]
  }
 ],
 "metadata": {
  "kernelspec": {
   "display_name": "py310",
   "language": "python",
   "name": "python3"
  },
  "language_info": {
   "codemirror_mode": {
    "name": "ipython",
    "version": 3
   },
   "file_extension": ".py",
   "mimetype": "text/x-python",
   "name": "python",
   "nbconvert_exporter": "python",
   "pygments_lexer": "ipython3",
   "version": "3.10.12"
  }
 },
 "nbformat": 4,
 "nbformat_minor": 2
}
