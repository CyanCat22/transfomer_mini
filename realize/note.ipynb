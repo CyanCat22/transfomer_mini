{
 "cells": [
  {
   "cell_type": "markdown",
   "metadata": {},
   "source": [
    "## Transformer 学习，实现\n",
    "\n",
    "包含 transformer 的框架实现，还有 pytorch 库中一些函数的用法 tips\n",
    "\n",
    "皈依不在天堂，皈依就在彼岸！\n",
    "\n",
    "有李沐大佬的[transformer 论文精读]()和用 d2l 库的从零实现\n",
    "\n",
    "以及大佬的博客＋视频讲解\n",
    "\n",
    "当然还有 ai 的帮助啦~~~\n",
    "\n",
    "[transformer](https://wmathor.com/index.php/archives/1438/)\n",
    "\n",
    "[大佬视频讲解](https://www.bilibili.com/video/BV1mk4y1q7eK/?spm_id_from=333.999.0.0&vd_source=744197c073f4828379c29fa20f3ea477)\n",
    "![](./img/figure1.png)\n"
   ]
  },
  {
   "cell_type": "markdown",
   "metadata": {},
   "source": [
    "### Step1 Positional Encoding\n",
    "\n",
    "因为没有用循环神经网络，需要序列\n",
    "在 transformer 里不训练，在 Bert 里会训练\n",
    "[文章理解](https://wmathor.com/index.php/archives/1453/)\n",
    "\n",
    "- 编码唯一\n",
    "- 值有界\n",
    "- 不同长度的句子之间，任何两个字之间的差值应该一致\n",
    "- ![](./img/position2.png)\n",
    "- ![](./img/position.png)\n"
   ]
  },
  {
   "cell_type": "code",
   "execution_count": 3,
   "metadata": {},
   "outputs": [],
   "source": [
    "import torch\n",
    "import torch.nn as nn\n",
    "import math\n",
    "import numpy as np\n",
    "\n",
    "# 参数\n",
    "d_model = 512\n",
    "d_ff = 2048\n",
    "d_k = d_v = 64\n",
    "n_layers = 6  # number of encoder and decoder layers\n",
    "n_heads = 8\n",
    "\n",
    "\n",
    "class PositionalEncoding(nn.Module):\n",
    "    def __init__(self, d_module, dropout=0.1, max_len=5000):\n",
    "        super(PositionalEncoding, self).__init__()\n",
    "        self.dropout = nn.Dropout(p=dropout)\n",
    "\n",
    "        pe = torch.zeros(max_len, d_module)\n",
    "        # unsqueeze => 在指定位置插入一个新的维度\n",
    "        position = torch.arange(0, max_len, dtype=torch.float32).unsqueeze(1)\n",
    "        # (seq_len, batch_size, d_model)\n",
    "        # 比例因子\n",
    "        div_term = torch.exp(\n",
    "            torch.arange(0, d_module, 2).float() * (-math.log(10000.0) / d_module)\n",
    "        )\n",
    "        # 0::2 切片表达式，索引从零开始，步长为2（隔一个索引取一个）\n",
    "        pe[:, 0::2] = torch.sin(position * div_term)\n",
    "        pe[:, 1::2] = torch.cos(position * div_term)\n",
    "\n",
    "        pe = pe.unsqueeze(0).transpose(0, 1)\n",
    "        # 将位置编码矩阵注册为一个缓冲区, 避免在每次前向传播时重新计算位置编码\n",
    "        self.register_buffer(\"pe\", pe)\n",
    "\n",
    "    def forward(self, x):\n",
    "        x = x + self.pe[0 : x.size(0), :]\n",
    "        return self.dropout(x)"
   ]
  },
  {
   "cell_type": "markdown",
   "metadata": {},
   "source": [
    "Tip1 unsqueeze\n"
   ]
  },
  {
   "cell_type": "markdown",
   "metadata": {},
   "source": [
    "Tip2 transpose\n"
   ]
  },
  {
   "cell_type": "markdown",
   "metadata": {},
   "source": [
    "Tip3 register_buffer\n"
   ]
  },
  {
   "cell_type": "code",
   "execution_count": null,
   "metadata": {},
   "outputs": [],
   "source": [
    "import torch\n",
    "import math\n",
    "\n",
    "x = torch.arange(0, 10)\n",
    "print(x)\n",
    "print(x[1::2])\n",
    "print(torch.arange(0, 10, 2, dtype=torch.float32))\n",
    "print(torch.arange(0, 10, dtype=torch.float32).unsqueeze(1))\n",
    "print(torch.arange(0, 10, dtype=torch.float32).unsqueeze(0))\n",
    "# x1 = torch.arange(0, 10, 2)\n",
    "# x2 = math.log(10000.0) / 10\n",
    "# print(x1)\n",
    "# print(x2)\n",
    "# print(torch.exp(x1)/-x2)"
   ]
  },
  {
   "cell_type": "markdown",
   "metadata": {},
   "source": [
    "### Step2 Pad_Mask and Subsequence Mask\n",
    "\n",
    "按照 mini-batch 中最大的句长对剩余的句子进行补齐，一般用 0 进行填充(padding)\n",
    "mask 操作，让无效的区域不参与运算，一般是给无效区域加一个很大的负数偏置\n",
    "\n",
    "![](./img/padding_mask.png)\n"
   ]
  },
  {
   "cell_type": "code",
   "execution_count": null,
   "metadata": {},
   "outputs": [],
   "source": [
    "def get_attn_pad_mask(seq_q, seq_k):\n",
    "    batch_size, len_q = seq_q.size()\n",
    "    batch_size, len_k = seq_k.size()\n",
    "    # data.eq(0) 是比较操作，找出序列中所有等于零的元素,返回一个True（即填充（PAD）token），False 表示其他非填充元素\n",
    "    pad_attn_mask = seq_k.data.eq(0).unsqueeze(1)\n",
    "    # 根据指定的形状参数沿着指定的维度扩展输入张量\n",
    "    return pad_attn_mask.expand(batch_size, len_q, len_k)"
   ]
  },
  {
   "cell_type": "markdown",
   "metadata": {},
   "source": [
    "Tip4 eq()\n"
   ]
  },
  {
   "cell_type": "code",
   "execution_count": null,
   "metadata": {},
   "outputs": [],
   "source": [
    "def get_attn_subsequence_mask(seq):\n",
    "    # 在decoder中用到，屏蔽未来时刻的信息\n",
    "    attn_shape = [seq.size(0), seq.size(1), seq.size(1)]\n",
    "    subsequence_mask = np.triu(np.ones(attn_shape), k=1)\n",
    "    subsequence_mask = torch.from_numpy(subsequence_mask).byte()\n",
    "    # torch.from_numpy().byte() 将numpy数组转换为Tensor\n",
    "    return subsequence_mask"
   ]
  },
  {
   "cell_type": "markdown",
   "metadata": {},
   "source": [
    "Tip5 np.triu()\n"
   ]
  },
  {
   "cell_type": "code",
   "execution_count": null,
   "metadata": {},
   "outputs": [],
   "source": [
    "import torch\n",
    "\n",
    "# 原始一维张量\n",
    "a = torch.tensor([1, 2, 3])\n",
    "print(a)\n",
    "print(a.size())\n",
    "# 在最后一个维度之前添加新维度\n",
    "b = a.unsqueeze(0)\n",
    "print(b.size())\n",
    "print(b)\n",
    "c = a.unsqueeze(1)\n",
    "print(c)\n",
    "print(c.size())"
   ]
  },
  {
   "cell_type": "markdown",
   "metadata": {},
   "source": [
    "### Step3 ScaledDotProductAttention\n",
    "\n",
    "- ![](./img/attention.png)\n",
    "- ![](./img/self_attention.png)\n"
   ]
  },
  {
   "cell_type": "code",
   "execution_count": null,
   "metadata": {},
   "outputs": [],
   "source": [
    "class ScaledDotProductAttention(nn.Module):\n",
    "    \"\"\"缩放点积注意力 单词间的权重计算\"\"\"\n",
    "\n",
    "    def __init__(self):\n",
    "        super(ScaledDotProductAttention, self).__init__()\n",
    "    \"\"\"\n",
    "        Q: [batch_size, n_heads, len_q, d_k]\n",
    "        K: [batch_size, n_heads, len_k, d_k]\n",
    "        V: [batch_size, n_heads, len_v(=len_k), d_v]\n",
    "        attn_mask: [batch_size, n_heads, seq_len, seq_len]\n",
    "    \"\"\"\n",
    "\n",
    "    def forward(self, Q, K: torch.Tensor, V, attn_mask):\n",
    "        # 将Q和K的最后一个维度进行点积，在最后一个维度上进行的。\n",
    "        scores: torch.Tensor = torch.matmul(\n",
    "            Q, K.transpose(-1, -2)) / np.sqrt(d_k)\n",
    "        # mask --- qt~qn => 很大的负数\n",
    "        scores.masked_fill_(attn_mask, -1e9)\n",
    "        # softmax()高得分接近1，低得分接近0，所有概率之和为1\n",
    "        attn = nn.Softmax(dim=1)(scores)\n",
    "        # 再乘值向量得到上下文的权重\n",
    "        context = torch.matmul(attn, V)\n",
    "\n",
    "        return context, attn"
   ]
  },
  {
   "cell_type": "code",
   "execution_count": null,
   "metadata": {},
   "outputs": [],
   "source": []
  },
  {
   "cell_type": "markdown",
   "metadata": {},
   "source": [
    "### Step4 MultiHeadAttention\n",
    "\n",
    "增加可学习的参数 W_Q, W_K, W_V\n"
   ]
  },
  {
   "cell_type": "code",
   "execution_count": null,
   "metadata": {},
   "outputs": [],
   "source": [
    "\n",
    "class MultiHeadAttention(nn.Module):\n",
    "    def __init__(self):\n",
    "        super(MultiHeadAttention, self).__init__()\n",
    "        self.W_Q = nn.Linear(d_model, d_k * n_heads, bias=False)\n",
    "        self.W_K = nn.Linear(d_model, d_k * n_heads, bias=False)\n",
    "        self.W_V = nn.Linear(d_model, d_v * n_heads, bias=False)\n",
    "        # 将多头注意力的输出进行聚合和转换，将输入维度（batch_size,n_heads*d_v)转换为(~, d_model)\n",
    "        self.fc = nn.Linear(n_heads * d_v, d_model, bias=False)\n",
    "\n",
    "    def forward(self, input_Q, input_K, input_V, attn_maks):\n",
    "        \"\"\"\n",
    "        input_Q: [batch_size, len_q, d_model]\n",
    "        input_K: [batch_size, len_k, d_model]\n",
    "        input_V: [batch_size, len_v(=len_k), d_model]\n",
    "        attn_mask: [batch_size, seq_len, seq_len]\n",
    "        \"\"\"\n",
    "        # 残差\n",
    "        residual, batch_size = input_Q, input_Q.size(0)\n",
    "\n",
    "        Q = self.W_Q(input_Q).view(batch_size, -1,\n",
    "                                   n_heads, d_k).transpose(1, 2)\n",
    "        K = self.W_K(input_K).view(batch_size, -1,\n",
    "                                   n_heads, d_k).transpose(1, 2)\n",
    "        V = self.W_V(input_V).view(batch_size, -1,\n",
    "                                   n_heads, d_k).transpose(1, 2)"
   ]
  },
  {
   "cell_type": "markdown",
   "metadata": {},
   "source": [
    "Tip6 torch.matmul()\n"
   ]
  },
  {
   "cell_type": "markdown",
   "metadata": {},
   "source": [
    "Tip7 masked_fill()\n"
   ]
  },
  {
   "cell_type": "markdown",
   "metadata": {},
   "source": [
    "### Step5 FeedForward Layer\n",
    "\n",
    "前馈神经网络\n"
   ]
  },
  {
   "cell_type": "code",
   "execution_count": null,
   "metadata": {},
   "outputs": [],
   "source": [
    "class PoswiseFeedForwardNet(nn.Module):\n",
    "    def __init__(self):\n",
    "        super(PositionalEncoding, self).__init__()"
   ]
  }
 ],
 "metadata": {
  "kernelspec": {
   "display_name": "py310",
   "language": "python",
   "name": "python3"
  },
  "language_info": {
   "codemirror_mode": {
    "name": "ipython",
    "version": 3
   },
   "file_extension": ".py",
   "mimetype": "text/x-python",
   "name": "python",
   "nbconvert_exporter": "python",
   "pygments_lexer": "ipython3",
   "version": "3.10.12"
  }
 },
 "nbformat": 4,
 "nbformat_minor": 2
}
