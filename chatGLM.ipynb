{
 "cells": [
  {
   "cell_type": "code",
   "execution_count": 2,
   "metadata": {},
   "outputs": [
    {
     "name": "stderr",
     "output_type": "stream",
     "text": [
      "2023-11-07 20:00:28,875 - modelscope - INFO - Use user-specified model revision: v1.0.0\n",
      "Downloading:   9%|▉         | 160M/1.69G [01:49<17:50, 1.54MB/s]2023-11-07 20:02:18,558 - modelscope - WARNING - Download file from: 1006632960 to: 1174405119 failed, will retry\n",
      "2023-11-07 20:02:18,560 - modelscope - WARNING - Download file from: 1174405120 to: 1342177279 failed, will retry\n",
      "2023-11-07 20:02:18,560 - modelscope - WARNING - Download file from: 838860800 to: 1006632959 failed, will retry\n",
      "Downloading:  46%|████▌     | 800M/1.69G [03:02<03:05, 5.28MB/s]"
     ]
    }
   ],
   "source": [
    "# ChatCLM\n",
    "from modelscope import snapshot_download, AutoTokenizer, AutoModel\n",
    "model_dir = snapshot_download(\"ZhipuAI/chatglm3-6b\", revision = \"v1.0.0\")"
   ]
  },
  {
   "cell_type": "code",
   "execution_count": null,
   "metadata": {},
   "outputs": [],
   "source": [
    "tokenizer = AutoTokenizer.from_pretrained(model_dir, trust_remote_code = True)\n",
    "model = AutoModel.from_pretrained(model_dir, trust_remote_code = True).half().cuda()\n",
    "model = model.eval()\n",
    "resonse, history = model.chat(tokenizer, \"你好\", history=[])\n",
    "print(resonse)\n",
    "resonse, history = model.chat(tokenizer, \"晚上睡不着怎么办\", history=history)\n",
    "print(resonse)\n",
    "\n"
   ]
  },
  {
   "cell_type": "code",
   "execution_count": null,
   "metadata": {},
   "outputs": [],
   "source": []
  }
 ],
 "metadata": {
  "kernelspec": {
   "display_name": "py310",
   "language": "python",
   "name": "python3"
  },
  "language_info": {
   "codemirror_mode": {
    "name": "ipython",
    "version": 3
   },
   "file_extension": ".py",
   "mimetype": "text/x-python",
   "name": "python",
   "nbconvert_exporter": "python",
   "pygments_lexer": "ipython3",
   "version": "3.10.12"
  }
 },
 "nbformat": 4,
 "nbformat_minor": 2
}
